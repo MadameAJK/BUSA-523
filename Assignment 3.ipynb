{
 "cells": [
  {
   "cell_type": "code",
   "execution_count": 27,
   "id": "8dbc18c3",
   "metadata": {},
   "outputs": [
    {
     "name": "stdout",
     "output_type": "stream",
     "text": [
      "Good\n",
      "Bad\n",
      "Average\n"
     ]
    }
   ],
   "source": [
    "import random \n",
    "\n",
    "class student_records: \n",
    "    def __init__(self, first_name, last_name, country, overall_grade, credit_completed, major):\n",
    "        self.first_name = first_name\n",
    "        self.last_name = last_name\n",
    "        self.country = country\n",
    "        self.overall_grade = overall_grade\n",
    "        self.credit_completed = credit_completed\n",
    "        self.major = major\n",
    "\n",
    "    def progress(self):\n",
    "        if(self.overall_grade > 3 and self.credit_completed >20):\n",
    "            print(\"Good\")\n",
    "        elif(self.overall_grade > 2.5 or (self.credit_completed > 10 and self.credit_completed < 20)): \n",
    "            print(\"Average\")\n",
    "        elif(self.overall_grade < 2.5):\n",
    "            print(\"Bad\")\n",
    "\n",
    "            \n",
    "a=student_records('Ana', 'Lopez', 'Mexico', 4, 25 , 'Economics')\n",
    "a.progress()\n",
    "b=student_records('Elizabeth', 'Harrys', 'Mexico', 2, 10, 'Spanish')\n",
    "b.progress()\n",
    "c=student_records('Gwendoline', 'Lopez', 'Mexico', 2.7, 18, 'Computer Science')\n",
    "c.progress()\n",
    "    "
   ]
  },
  {
   "cell_type": "code",
   "execution_count": 2,
   "id": "b1cad1a1",
   "metadata": {},
   "outputs": [],
   "source": [
    "list1 = [-6, 5, -3, -2, 1, 0, -8, 9, 3]"
   ]
  },
  {
   "cell_type": "code",
   "execution_count": 3,
   "id": "9c25ead8",
   "metadata": {},
   "outputs": [
    {
     "name": "stdout",
     "output_type": "stream",
     "text": [
      "([5, 1, 9, 3], [-6, -3, -2, 0, -8])\n"
     ]
    }
   ],
   "source": [
    "def positive_negative(my_list): \n",
    "    positive_list = []\n",
    "    negative_list = []\n",
    "    \n",
    "    for number in my_list: \n",
    "        if number > 0:\n",
    "            positive_list.append(number)\n",
    "        else:\n",
    "            negative_list.append(number)\n",
    "    return positive_list, negative_list\n",
    "\n",
    "print(positive_negative(list1))\n",
    "    "
   ]
  },
  {
   "cell_type": "code",
   "execution_count": 4,
   "id": "2abe7979",
   "metadata": {},
   "outputs": [],
   "source": [
    "final_score = [(9,10), (10,11), (10,10), (11,9), (11,8)]"
   ]
  },
  {
   "cell_type": "code",
   "execution_count": 19,
   "id": "e95cfecd",
   "metadata": {},
   "outputs": [
    {
     "name": "stdout",
     "output_type": "stream",
     "text": [
      "All possibilities = [(9, 10), (10, 11), (10, 10), (11, 9), (11, 8)]\n",
      "Enter Player's final score = 18\n"
     ]
    }
   ],
   "source": [
    "import numpy as np\n",
    "\n",
    "def all_possibilities(out):\n",
    "    \n",
    "    \n",
    "    def final_score():\n",
    "        final_score = 16\n",
    "    final_score = 17\n",
    "    final_score = 18\n",
    "    final_score = 19\n",
    "    final_score = 20\n",
    "    final_score = 21  \n",
    " \n",
    "    def number(): \n",
    "        i = (1,2,3,4,5,6,7,8,9,10,11)\n",
    "        j = (1,2,3,4,5,6,7,8,9,10,11)\n",
    "        \n",
    "        if i in range(1,12) and  j in range(1,12):\n",
    "                if(number > i+j and i+j < 22):\n",
    "                     final_score.append([i,j])\n",
    "                \n",
    "print(\"All possibilities =\", final_score)\n",
    "\n",
    "n = int(input(\"Enter Player's final score = \"))\n",
    "all_possibilities(n)\n",
    "\n"
   ]
  },
  {
   "cell_type": "code",
   "execution_count": 31,
   "id": "2ebe9f27",
   "metadata": {},
   "outputs": [
    {
     "name": "stdout",
     "output_type": "stream",
     "text": [
      "2.57 µs ± 306 ns per loop (mean ± std. dev. of 7 runs, 100000 loops each)\n"
     ]
    }
   ],
   "source": [
    "import random\n",
    "\n",
    "list1 = [-6, 5, -3, -2, 1, 0, -8, 9, 3] \n",
    "\n",
    "def loop(lst):\n",
    "    greater_0 = []\n",
    "    for value in lst:\n",
    "        if value > 0:\n",
    "            greater_0.append(value)\n",
    "            \n",
    "%timeit loop(list1)\n",
    "    "
   ]
  },
  {
   "cell_type": "code",
   "execution_count": 32,
   "id": "e3398e99",
   "metadata": {},
   "outputs": [
    {
     "name": "stdout",
     "output_type": "stream",
     "text": [
      "316 ns ± 13.3 ns per loop (mean ± std. dev. of 7 runs, 1000000 loops each)\n"
     ]
    }
   ],
   "source": [
    "import random \n",
    "\n",
    "list2 = [1,2,3,4,5,6,7,8,9,10,11]\n",
    "\n",
    "def check(lst):\n",
    "    data = 12\n",
    "    sample = 5\n",
    "    return 0 \n",
    "\n",
    "%timeit check(list2)"
   ]
  },
  {
   "cell_type": "code",
   "execution_count": null,
   "id": "3e03e6bc",
   "metadata": {},
   "outputs": [],
   "source": []
  }
 ],
 "metadata": {
  "kernelspec": {
   "display_name": "Python 3 (ipykernel)",
   "language": "python",
   "name": "python3"
  },
  "language_info": {
   "codemirror_mode": {
    "name": "ipython",
    "version": 3
   },
   "file_extension": ".py",
   "mimetype": "text/x-python",
   "name": "python",
   "nbconvert_exporter": "python",
   "pygments_lexer": "ipython3",
   "version": "3.9.7"
  }
 },
 "nbformat": 4,
 "nbformat_minor": 5
}
