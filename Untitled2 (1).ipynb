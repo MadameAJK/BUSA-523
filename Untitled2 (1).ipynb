{
 "cells": [
  {
   "cell_type": "code",
   "execution_count": 3,
   "id": "1d07785c-5c7f-4cc1-81ef-4e3b15eaf654",
   "metadata": {},
   "outputs": [
    {
     "name": "stdout",
     "output_type": "stream",
     "text": [
      "0\n",
      "0\n",
      "0\n",
      "['heads', 'tails', 'heads', 'heads', 'tails', 'tails', 'heads', 'heads', 'heads', 'tails', 'tails', 'tails', 'heads', 'heads', 'heads', 'heads', 'tails', 'heads', 'tails', 'heads', 'tails', 'tails', 'tails', 'tails', 'heads', 'heads', 'heads', 'heads', 'tails', 'tails', 'tails', 'tails', 'tails', 'tails', 'tails', 'heads', 'heads', 'tails', 'tails', 'tails', 'heads', 'heads', 'tails', 'tails', 'heads', 'heads', 'heads', 'tails', 'tails', 'heads', 'heads', 'heads']\n"
     ]
    }
   ],
   "source": [
    "import random \n",
    "choices = [\"heads\",\"tails\"] \n",
    "tosses = 50\n",
    "\n",
    "for i in range(tosses):\n",
    "    if random.randint(0,1) == 0:\n",
    "        choices.append(\"heads\")\n",
    "    else: \n",
    "        choices.append(\"tails\")\n",
    "heads_count = 0\n",
    "tails_count = 0\n",
    "streak = 0\n",
    "for i in range(len(\"choices\")):\n",
    "    if i == \"heads\":\n",
    "        heads_count += 1\n",
    "        tails_count == 0 \n",
    "    if heads_count >= 5:\n",
    "        streak += 1\n",
    "    elif i == \"tails\": \n",
    "        tails_count += 1\n",
    "        heads_count == 0\n",
    "        if tails_count >=5:\n",
    "            streak += 1\n",
    "            \n",
    "print(heads_count)\n",
    "print(tails_count)\n",
    "print(streak)\n",
    "print(choices)\n"
   ]
  },
  {
   "cell_type": "code",
   "execution_count": 29,
   "id": "9990eab9-452f-4787-9ceb-65415297fb5f",
   "metadata": {},
   "outputs": [
    {
     "ename": "SyntaxError",
     "evalue": "invalid syntax (Temp/ipykernel_14716/2432969625.py, line 2)",
     "output_type": "error",
     "traceback": [
      "\u001b[1;36m  File \u001b[1;32m\"C:\\Users\\helen\\AppData\\Local\\Temp/ipykernel_14716/2432969625.py\"\u001b[1;36m, line \u001b[1;32m2\u001b[0m\n\u001b[1;33m    inventory = {\"swords5\", \"diamonds10\", \"gold_coins6\", \"rope3\", \"potions2\"}\u001b[0m\n\u001b[1;37m    ^\u001b[0m\n\u001b[1;31mSyntaxError\u001b[0m\u001b[1;31m:\u001b[0m invalid syntax\n"
     ]
    }
   ],
   "source": [
    "items = [\"swords\",\"diamonds\",\"gold_coins\",\"rope\",\"potions\"\n",
    "inventory = {\"swords5\", \"diamonds10\", \"gold_coins6\", \"rope3\", \"potions2\"}\n",
    "\n",
    "for items in items:\n",
    "         inventory[items] = int(input(\"enter the number of {}:\".format(items)))\n",
    "         print(\"inventory:\")\n",
    "for items, cnt in inventory.items():\n",
    "         print(cnt,items)\n",
    "         "
   ]
  },
  {
   "cell_type": "code",
   "execution_count": 20,
   "id": "bc6a9aa3-592f-40a9-81cf-06316f23400a",
   "metadata": {},
   "outputs": [
    {
     "ename": "TypeError",
     "evalue": "'list' object cannot be interpreted as an integer",
     "output_type": "error",
     "traceback": [
      "\u001b[1;31m---------------------------------------------------------------------------\u001b[0m",
      "\u001b[1;31mTypeError\u001b[0m                                 Traceback (most recent call last)",
      "\u001b[1;32m~\\AppData\\Local\\Temp/ipykernel_14716/2614986604.py\u001b[0m in \u001b[0;36m<module>\u001b[1;34m\u001b[0m\n\u001b[0;32m      4\u001b[0m \u001b[0mB\u001b[0m \u001b[1;33m=\u001b[0m \u001b[0mnp\u001b[0m\u001b[1;33m.\u001b[0m\u001b[0marray\u001b[0m\u001b[1;33m(\u001b[0m\u001b[0mA\u001b[0m\u001b[1;33m)\u001b[0m\u001b[1;33m\u001b[0m\u001b[1;33m\u001b[0m\u001b[0m\n\u001b[0;32m      5\u001b[0m \u001b[1;33m\u001b[0m\u001b[0m\n\u001b[1;32m----> 6\u001b[1;33m \u001b[1;32mfor\u001b[0m \u001b[0mi\u001b[0m \u001b[1;32min\u001b[0m \u001b[0mrange\u001b[0m\u001b[1;33m(\u001b[0m\u001b[0mA\u001b[0m\u001b[1;33m)\u001b[0m\u001b[1;33m:\u001b[0m\u001b[1;33m\u001b[0m\u001b[1;33m\u001b[0m\u001b[0m\n\u001b[0m\u001b[0;32m      7\u001b[0m     \u001b[1;32mif\u001b[0m \u001b[0mnp\u001b[0m\u001b[1;33m.\u001b[0m\u001b[0mrandom\u001b[0m\u001b[1;33m.\u001b[0m\u001b[0mranint\u001b[0m\u001b[1;33m(\u001b[0m\u001b[1;36m10000\u001b[0m\u001b[1;33m,\u001b[0m \u001b[0msize\u001b[0m \u001b[1;33m=\u001b[0m \u001b[1;33m(\u001b[0m\u001b[1;36m5\u001b[0m\u001b[1;33m,\u001b[0m\u001b[1;36m5\u001b[0m\u001b[1;33m)\u001b[0m\u001b[1;33m)\u001b[0m\u001b[1;33m:\u001b[0m\u001b[1;33m\u001b[0m\u001b[1;33m\u001b[0m\u001b[0m\n\u001b[0;32m      8\u001b[0m        \u001b[0mA\u001b[0m\u001b[1;33m.\u001b[0m\u001b[0mappend\u001b[0m\u001b[1;33m(\u001b[0m\u001b[1;34m\"heads\"\u001b[0m\u001b[1;33m)\u001b[0m\u001b[1;33m\u001b[0m\u001b[1;33m\u001b[0m\u001b[0m\n",
      "\u001b[1;31mTypeError\u001b[0m: 'list' object cannot be interpreted as an integer"
     ]
    }
   ],
   "source": [
    "import numpy as np\n",
    "\n",
    "A = [\"heads\",\"tails\"]\n",
    "B = np.array(A) \n",
    "\n",
    "for i in range(A):\n",
    "    if np.random.ranint(10000, size = (5,5)): \n",
    "       A.append(\"heads\")\n",
    "    else: \n",
    "        B.append(\"tails\")\n",
    "np.heads_count = 0 \n",
    "np.tails_count = 0 \n",
    "np.streak = 0\n",
    "\n",
    "for i in range(len(A)):\n",
    "    if i == \"heads\": \n",
    "        np.heads_count += 1 \n",
    "        np.tails_count == 0\n",
    "    if heads_count >= 5:\n",
    "        np.streak += 1\n",
    "    elif i == \"tails\": \n",
    "        np.tails_count += 1\n",
    "        np.heads_count == 0\n",
    "        if tails_count >= 5:\n",
    "            np.streak += 1\n",
    "            \n",
    "print(np.heads_count)\n",
    "print(np.tails_count)\n",
    "print(np.streak)\n",
    "print(type(A))\n",
    "\n",
    "        "
   ]
  },
  {
   "cell_type": "code",
   "execution_count": 27,
   "id": "3fd20f5f-e937-4c80-8132-a8fa44656ebb",
   "metadata": {},
   "outputs": [
    {
     "ename": "SyntaxError",
     "evalue": "invalid syntax (Temp/ipykernel_14716/3943330156.py, line 11)",
     "output_type": "error",
     "traceback": [
      "\u001b[1;36m  File \u001b[1;32m\"C:\\Users\\helen\\AppData\\Local\\Temp/ipykernel_14716/3943330156.py\"\u001b[1;36m, line \u001b[1;32m11\u001b[0m\n\u001b[1;33m    print(\"winner for the following game is player()\"):\u001b[0m\n\u001b[1;37m    ^\u001b[0m\n\u001b[1;31mSyntaxError\u001b[0m\u001b[1;31m:\u001b[0m invalid syntax\n"
     ]
    }
   ],
   "source": [
    "import random\n",
    "\n",
    "num_iterations, num_players = 10,3\n",
    "scores = [0]* num_players \n",
    "\n",
    "for i in range(num_interations):\n",
    "    for player in range(num_players):\n",
    "        scores[player] += random.randint(1,6)\n",
    "        \n",
    "winner = max(enumerate(scores), key=lambda scores:(scores[1])[0] + 1\n",
    "        print(\"winner for the following game is player()\"):"
   ]
  },
  {
   "cell_type": "code",
   "execution_count": null,
   "id": "f436d35d-31bb-49bb-9b4a-acb998498e0e",
   "metadata": {},
   "outputs": [],
   "source": []
  },
  {
   "cell_type": "code",
   "execution_count": null,
   "id": "0b3151ca-534e-43a1-9996-9bef1d1b1bc0",
   "metadata": {},
   "outputs": [],
   "source": []
  }
 ],
 "metadata": {
  "kernelspec": {
   "display_name": "Python 3 (ipykernel)",
   "language": "python",
   "name": "python3"
  },
  "language_info": {
   "codemirror_mode": {
    "name": "ipython",
    "version": 3
   },
   "file_extension": ".py",
   "mimetype": "text/x-python",
   "name": "python",
   "nbconvert_exporter": "python",
   "pygments_lexer": "ipython3",
   "version": "3.9.7"
  }
 },
 "nbformat": 4,
 "nbformat_minor": 5
}
