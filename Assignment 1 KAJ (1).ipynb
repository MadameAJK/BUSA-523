{
 "cells": [
  {
   "cell_type": "code",
   "execution_count": null,
   "id": "6b7c0ed5-f68e-4480-8b39-8a72f679e315",
   "metadata": {},
   "outputs": [],
   "source": [
    "import random \n",
    "number = random.random(1,20)\n",
    "Guessed = 0\n",
    "guess= int(input())\n",
    "end=\":\"\n",
    "print(\"You have 5 attempts to guess the number between 1 and 20.\")\n",
    "guess= int(input())\n",
    "if guess == number: \n",
    "    print(\"You win\")\n",
    "    break \n",
    "if guess == 5:\n",
    "    print(\"You lose\")\n",
    "    break "
   ]
  },
  {
   "cell_type": "code",
   "execution_count": 22,
   "id": "e29924eb-cd28-435a-bf83-b6cd40a7dbe1",
   "metadata": {},
   "outputs": [
    {
     "ename": "IndentationError",
     "evalue": "unexpected indent (Temp/ipykernel_12644/119511401.py, line 7)",
     "output_type": "error",
     "traceback": [
      "\u001b[1;36m  File \u001b[1;32m\"C:\\Users\\helen\\AppData\\Local\\Temp/ipykernel_12644/119511401.py\"\u001b[1;36m, line \u001b[1;32m7\u001b[0m\n\u001b[1;33m    print(\"Attempt\", end= \":\")\u001b[0m\n\u001b[1;37m    ^\u001b[0m\n\u001b[1;31mIndentationError\u001b[0m\u001b[1;31m:\u001b[0m unexpected indent\n"
     ]
    }
   ],
   "source": [
    "import random \n",
    "number = random.random(1,20)\n",
    "guess = int(input())\n",
    "end= \":\"\n",
    "print(\"You have 5 attempts to guess the number between 1 and 20.\")  \n",
    "\n",
    "    print(\"Attempt\", end= \":\")\n",
    "    guess = int(input())\n",
    "    if guess < number: \n",
    "        print(\"Guess should be higher\")\n",
    "    if guess > number: \n",
    "        print(\"Guess should be lower\")\n",
    "    if guess == number: \n",
    "        print(\"You win\")\n",
    "        break \n",
    "    if guess == 5: \n",
    "        print(\"You lose\")\n",
    "        break "
   ]
  },
  {
   "cell_type": "code",
   "execution_count": null,
   "id": "05eb8178-f6e9-4400-bdc7-3dda3614255e",
   "metadata": {},
   "outputs": [],
   "source": []
  },
  {
   "cell_type": "markdown",
   "id": "33cb7807-77cc-4b17-95e5-a2f17f4d7bcb",
   "metadata": {},
   "source": [
    "Take User input\n",
    "Randomly select a value between 1 and 5 if value == 1, then computer = Rock if value == 2, then computer = Paper if value == 3, then computer = Scissors if value == 4, then computer = Lizard if value == 5, then computer = Spock\n",
    "Compare both User input to computer\n",
    "if User input == computer\n",
    "Tie\n",
    "if User input == \"Rock\" & computer == \"Spock\"\n",
    "You win\n",
    "if User input == \"Spock\" & computer == \"Scissors\"\n",
    "You win\n",
    "if User input == \"Paper\" & computer == \"Rock\"\n",
    "You win\n",
    "if User input == \"Lizard\" & computer == \"Paper\"\n",
    "You win\n",
    "if User input == \"Scissors\" & computer == \"Lizard\"\n",
    "You win\n",
    "else:\n",
    "You lose"
   ]
  },
  {
   "cell_type": "code",
   "execution_count": 2,
   "id": "7dbb6b00-00e2-414d-bf87-3efb0edb31fb",
   "metadata": {},
   "outputs": [
    {
     "name": "stdout",
     "output_type": "stream",
     "text": [
      "Enter your move: Rock, Paper, Scissors, Lizard or Spock\n"
     ]
    },
    {
     "name": "stdin",
     "output_type": "stream",
     "text": [
      " \"Spock\" and computer\n"
     ]
    }
   ],
   "source": [
    "import random \n",
    "print(\"Enter your move: Rock, Paper, Scissors, Lizard or Spock\")\n",
    "user = input()\n",
    "number = random.randint(1,5) \n",
    "\n",
    "if number == 1: \n",
    "    computer = \"Rock\" \n",
    "elif number == 2: \n",
    "    computer = \"Paper\" \n",
    "elif number == 3: \n",
    "    computer = \"Scissors\" \n",
    "elif number == 4: \n",
    "    computer = \"Lizard\" \n",
    "elif number == 5:\n",
    "    computer = \"Spock\"\n",
    "    \n",
    "if user == computer: \n",
    "    print(\"It's a Tie!\")\n",
    "elif user == \"Rock\" and computer == \"Spock\":\n",
    "    print(\"You win!\")\n",
    "elif user == \"Spock\" and computer == \"Lizard\": \n",
    "    print(\"You win!\")\n",
    "elif user == \"Paper\" and computer == \"Scissors\":\n",
    "    print(\"You win!\")\n",
    "elif user == \"Lizard\" and computer == \"Paper\":\n",
    "    print(\"You win!\")\n",
    "elif user == \"Scissors\" and computer == \"Rock\":\n",
    "    print(\"You win!\") \n"
   ]
  },
  {
   "cell_type": "code",
   "execution_count": null,
   "id": "877a9931-01cf-4324-8634-7ecb8c4bfec0",
   "metadata": {},
   "outputs": [],
   "source": []
  }
 ],
 "metadata": {
  "kernelspec": {
   "display_name": "Python 3 (ipykernel)",
   "language": "python",
   "name": "python3"
  },
  "language_info": {
   "codemirror_mode": {
    "name": "ipython",
    "version": 3
   },
   "file_extension": ".py",
   "mimetype": "text/x-python",
   "name": "python",
   "nbconvert_exporter": "python",
   "pygments_lexer": "ipython3",
   "version": "3.9.7"
  }
 },
 "nbformat": 4,
 "nbformat_minor": 5
}
